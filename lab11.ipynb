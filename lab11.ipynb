{
 "cells": [
  {
   "cell_type": "code",
   "execution_count": 1,
   "metadata": {},
   "outputs": [],
   "source": [
    "# !pip install torch transformers"
   ]
  },
  {
   "cell_type": "code",
   "execution_count": 2,
   "metadata": {},
   "outputs": [
    {
     "name": "stdout",
     "output_type": "stream",
     "text": [
      "WARNING:tensorflow:From c:\\Users\\muqadasah\\AppData\\Local\\Programs\\Python\\Python310\\lib\\site-packages\\keras\\src\\losses.py:2976: The name tf.losses.sparse_softmax_cross_entropy is deprecated. Please use tf.compat.v1.losses.sparse_softmax_cross_entropy instead.\n",
      "\n"
     ]
    }
   ],
   "source": [
    "from transformers import GPT2LMHeadModel, GPT2Tokenizer\n",
    "import torch"
   ]
  },
  {
   "cell_type": "code",
   "execution_count": 3,
   "metadata": {},
   "outputs": [],
   "source": [
    "\n",
    "model_name = \"gpt2\"\n",
    "tokenizer = GPT2Tokenizer.from_pretrained(model_name)\n",
    "model = GPT2LMHeadModel.from_pretrained(model_name)"
   ]
  },
  {
   "cell_type": "code",
   "execution_count": 4,
   "metadata": {},
   "outputs": [
    {
     "data": {
      "text/plain": [
       "GPT2LMHeadModel(\n",
       "  (transformer): GPT2Model(\n",
       "    (wte): Embedding(50257, 768)\n",
       "    (wpe): Embedding(1024, 768)\n",
       "    (drop): Dropout(p=0.1, inplace=False)\n",
       "    (h): ModuleList(\n",
       "      (0-11): 12 x GPT2Block(\n",
       "        (ln_1): LayerNorm((768,), eps=1e-05, elementwise_affine=True)\n",
       "        (attn): GPT2Attention(\n",
       "          (c_attn): Conv1D(nf=2304, nx=768)\n",
       "          (c_proj): Conv1D(nf=768, nx=768)\n",
       "          (attn_dropout): Dropout(p=0.1, inplace=False)\n",
       "          (resid_dropout): Dropout(p=0.1, inplace=False)\n",
       "        )\n",
       "        (ln_2): LayerNorm((768,), eps=1e-05, elementwise_affine=True)\n",
       "        (mlp): GPT2MLP(\n",
       "          (c_fc): Conv1D(nf=3072, nx=768)\n",
       "          (c_proj): Conv1D(nf=768, nx=3072)\n",
       "          (act): NewGELUActivation()\n",
       "          (dropout): Dropout(p=0.1, inplace=False)\n",
       "        )\n",
       "      )\n",
       "    )\n",
       "    (ln_f): LayerNorm((768,), eps=1e-05, elementwise_affine=True)\n",
       "  )\n",
       "  (lm_head): Linear(in_features=768, out_features=50257, bias=False)\n",
       ")"
      ]
     },
     "execution_count": 4,
     "metadata": {},
     "output_type": "execute_result"
    }
   ],
   "source": [
    "model.eval()"
   ]
  },
  {
   "cell_type": "code",
   "execution_count": 5,
   "metadata": {},
   "outputs": [],
   "source": [
    "def generate_text(prompt, max_length=100, temperature=1.0, top_k=50, top_p=0.95):\n",
    "    input_ids = tokenizer.encode(prompt,return_tensors=\"pt\")\n",
    "    output = model.generate(\n",
    "    input_ids,\n",
    "    max_length = max_length,\n",
    "    temperature = temperature, \n",
    "    top_k = top_k,\n",
    "    top_p = top_p,\n",
    "    do_sample = True\n",
    "    )\n",
    "    return tokenizer.decode(output[0], skip_special_tokens=True)"
   ]
  },
  {
   "cell_type": "code",
   "execution_count": null,
   "metadata": {},
   "outputs": [
    {
     "name": "stderr",
     "output_type": "stream",
     "text": [
      "The attention mask and the pad token id were not set. As a consequence, you may observe unexpected behavior. Please pass your input's `attention_mask` to obtain reliable results.\n",
      "Setting `pad_token_id` to `eos_token_id`:50256 for open-end generation.\n"
     ]
    },
    {
     "name": "stdout",
     "output_type": "stream",
     "text": [
      "Once upon a time in a distant galaxy, ichthyosis could be controlled with simple manipulations like the use of a blood transfusion or a chemical solution (and it's a really good idea, considering the effects are probably worse). With a very powerful gene, it's possible to effectively kill an entire organism that's already been affected by it (and that's the only way to cure disease in humans, of course!).\n",
      "\n",
      "However, the new technique is more dangerous than any of the\n"
     ]
    }
   ],
   "source": [
    "\n",
    "prompt = \"Once upon a time in a distant galaxy, \"\n",
    "generated_text = generate_text(prompt)\n",
    "print(generated_text)"
   ]
  },
  {
   "cell_type": "code",
   "execution_count": null,
   "metadata": {},
   "outputs": [
    {
     "name": "stderr",
     "output_type": "stream",
     "text": [
      "The attention mask and the pad token id were not set. As a consequence, you may observe unexpected behavior. Please pass your input's `attention_mask` to obtain reliable results.\n",
      "Setting `pad_token_id` to `eos_token_id`:50256 for open-end generation.\n"
     ]
    },
    {
     "name": "stdout",
     "output_type": "stream",
     "text": [
      "Once upon a time in a distant galaxy,  Star Wars was a blockbuster hit. With the release of the first book in the series, it was the first film in which a hero could be seen in real life. The film, directed by John Boyega, was based on the adventures of Obi-Wan Kenobi. The story was about the discovery of a planet known as \"The Riveting Heart\". The Riveting Heart was a planet inhabited by a group of freighters. The\n"
     ]
    }
   ],
   "source": [
    "\n",
    "print(generate_text(prompt, max_length=100, temperature=0.7, top_k=50, top_p=0.95))\n",
    "#lower temp value...more deterministic\n"
   ]
  },
  {
   "cell_type": "code",
   "execution_count": null,
   "metadata": {},
   "outputs": [
    {
     "name": "stderr",
     "output_type": "stream",
     "text": [
      "The attention mask and the pad token id were not set. As a consequence, you may observe unexpected behavior. Please pass your input's `attention_mask` to obtain reliable results.\n",
      "Setting `pad_token_id` to `eos_token_id`:50256 for open-end generation.\n"
     ]
    },
    {
     "name": "stdout",
     "output_type": "stream",
     "text": [
      "Once upon a time in a distant galaxy,  the stars of the Milky Way were the center of mass of a galaxy. The first of those stars was called the  Vertian-like star, and was the source of the name\n"
     ]
    }
   ],
   "source": [
    "\n",
    "print(generate_text(prompt, max_length=50, temperature=0.7, top_k=50, top_p=0.95)) \n",
    "#lower length value\n"
   ]
  },
  {
   "cell_type": "code",
   "execution_count": 17,
   "metadata": {},
   "outputs": [
    {
     "name": "stderr",
     "output_type": "stream",
     "text": [
      "The attention mask and the pad token id were not set. As a consequence, you may observe unexpected behavior. Please pass your input's `attention_mask` to obtain reliable results.\n",
      "Setting `pad_token_id` to `eos_token_id`:50256 for open-end generation.\n"
     ]
    },
    {
     "name": "stdout",
     "output_type": "stream",
     "text": [
      "Once upon a time in a distant galaxy, urn would provide shelter, it was a dark space and an enormous solar system of sorts.\"\n",
      "\n",
      "One question that still haunted me in an age when space travel as opposed to traditional knowledge was if the moon system in particular was going ahead? What if this was a place of magic. Did the moons of Mars, Earth and stars really offer all these options, in an incredibly similar light and gravity? Could those other moons truly offer knowledge which would not\n"
     ]
    }
   ],
   "source": [
    "\n",
    "print(generate_text(prompt, max_length=100, temperature=1.5, top_k=50, top_p=0.95)) \n",
    "#higher temp value...more randomness"
   ]
  },
  {
   "cell_type": "code",
   "execution_count": 19,
   "metadata": {},
   "outputs": [
    {
     "name": "stderr",
     "output_type": "stream",
     "text": [
      "The attention mask and the pad token id were not set. As a consequence, you may observe unexpected behavior. Please pass your input's `attention_mask` to obtain reliable results.\n",
      "Setting `pad_token_id` to `eos_token_id`:50256 for open-end generation.\n"
     ]
    },
    {
     "name": "stdout",
     "output_type": "stream",
     "text": [
      "Once upon a time in a distant galaxy,  the sun was a distant star that had a very bright star and a very cold one.\n",
      "In this case, the sun was a very cold star that was very bright. The Sun was a very cold star. It was a very cold star, and it was a very cold star. The sun was very bright. And, it was a very cold star. The sun was a very cold star.\n",
      "And it was a very cold star\n"
     ]
    }
   ],
   "source": [
    "\n",
    "print(generate_text(prompt, max_length=100, temperature=1.0, top_k=5, top_p=0.95)) \n",
    "#low top_k value...more focused...less diversity"
   ]
  },
  {
   "cell_type": "code",
   "execution_count": null,
   "metadata": {},
   "outputs": [
    {
     "name": "stderr",
     "output_type": "stream",
     "text": [
      "The attention mask and the pad token id were not set. As a consequence, you may observe unexpected behavior. Please pass your input's `attention_mask` to obtain reliable results.\n",
      "Setting `pad_token_id` to `eos_token_id`:50256 for open-end generation.\n"
     ]
    },
    {
     "name": "stdout",
     "output_type": "stream",
     "text": [
      "Once upon a time in a distant galaxy,  she held the balance of your power against the cosmic radiation that had caused your father, now known as Eris, to die. Eris was a boy, and a cruel and evil one. He was destined to rule us all like a child that had grown up in the body of the Mother of Death and would rule over the Universe within a hundred years. Eris was much more innocent, innocent enough to play with her best friend Fortun\n"
     ]
    }
   ],
   "source": [
    "\n",
    "print(generate_text(prompt, max_length=100, temperature=1.0, top_k=200, top_p=0.95)) \n",
    "#high top_k value...less focused...more diversity"
   ]
  },
  {
   "cell_type": "code",
   "execution_count": null,
   "metadata": {},
   "outputs": [
    {
     "name": "stderr",
     "output_type": "stream",
     "text": [
      "The attention mask and the pad token id were not set. As a consequence, you may observe unexpected behavior. Please pass your input's `attention_mask` to obtain reliable results.\n",
      "Setting `pad_token_id` to `eos_token_id`:50256 for open-end generation.\n"
     ]
    },
    {
     "name": "stdout",
     "output_type": "stream",
     "text": [
      "Once upon a time in a distant galaxy,  the universe was a vast, vast, vast, vast, vast, vast, vast, vast, vast, vast, vast, vast, vast, vast, vast, vast, vast, vast, vast, vast, vast, vast, vast, vast, vast, vast, vast, vast, vast, vast, vast, vast, vast, vast, vast, vast, vast, vast, vast, vast, vast, vast, vast\n"
     ]
    }
   ],
   "source": [
    "\n",
    "print(generate_text(prompt, max_length=100, temperature=1.0, top_k=50, top_p=0.05)) \n",
    "#low top_p value...limits sampling to a subset of words whose cumulative prob is at most p"
   ]
  },
  {
   "cell_type": "code",
   "execution_count": 24,
   "metadata": {},
   "outputs": [
    {
     "name": "stderr",
     "output_type": "stream",
     "text": [
      "The attention mask and the pad token id were not set. As a consequence, you may observe unexpected behavior. Please pass your input's `attention_mask` to obtain reliable results.\n",
      "Setting `pad_token_id` to `eos_token_id`:50256 for open-end generation.\n"
     ]
    },
    {
     "name": "stdout",
     "output_type": "stream",
     "text": [
      "Once upon a time in a distant galaxy,  when   a vast mass of space-time was annihilated by a black hole  , in whose very midst  the universe erupted, the universe arose and made it its own.  The universe seemed  as if nothing other than a black hole was the result of a single collision of  the universe's own solar processes.  Nothing other then the solar process  could create and generate energy.  This created and released  the most \n"
     ]
    }
   ],
   "source": [
    "\n",
    "print(generate_text(prompt, max_length=100, temperature=1.0, top_k=50, top_p=1.6)) \n",
    "#medium top_p value...Balanced creativity"
   ]
  },
  {
   "cell_type": "code",
   "execution_count": null,
   "metadata": {},
   "outputs": [
    {
     "name": "stderr",
     "output_type": "stream",
     "text": [
      "The attention mask and the pad token id were not set. As a consequence, you may observe unexpected behavior. Please pass your input's `attention_mask` to obtain reliable results.\n",
      "Setting `pad_token_id` to `eos_token_id`:50256 for open-end generation.\n"
     ]
    },
    {
     "name": "stdout",
     "output_type": "stream",
     "text": [
      "Once upon a time in a distant galaxy,  you are not living your life until your death.\"\n",
      "A.C.L.R.I.T.  This is an article about real life events, of course. In Star Wars or Star Wars: Episode IV A New Hope, the TIE fighters of the Imperials are flying  and performing various \"kills\" on their foes - usually not by anything resembling human but by robots. They are often called \"Aks\".\n"
     ]
    }
   ],
   "source": [
    "\n",
    "print(generate_text(prompt, max_length=100, temperature=1.0, top_k=50, top_p=3)) \n",
    "#high top_p value...More creative, diverse, and sometimes chaotic text."
   ]
  },
  {
   "cell_type": "code",
   "execution_count": 25,
   "metadata": {},
   "outputs": [],
   "source": [
    "prompt1= \"EEG Preprocessing Techniques\""
   ]
  },
  {
   "cell_type": "code",
   "execution_count": 30,
   "metadata": {},
   "outputs": [
    {
     "name": "stderr",
     "output_type": "stream",
     "text": [
      "The attention mask and the pad token id were not set. As a consequence, you may observe unexpected behavior. Please pass your input's `attention_mask` to obtain reliable results.\n",
      "Setting `pad_token_id` to `eos_token_id`:50256 for open-end generation.\n"
     ]
    },
    {
     "name": "stdout",
     "output_type": "stream",
     "text": [
      "EEG Preprocessing Techniques of the Digital Image Processing System. Nijmegen, Germany: NIJ, 2010. Google Scholar\n",
      "\n",
      "Choung, H., Huang, C., Zhou, A., & Yang, N. (2012). Neural Network Development of the Acoustic Signal Processing System. IEEE: International Conference on General and Applied Physiology, 7, 121–146. doi: 10.1163/A.W.N.F.-1201.121 PubMed Abstract\n"
     ]
    }
   ],
   "source": [
    "print(generate_text(prompt1, max_length=100, temperature=1.0, top_k=50, top_p=0.95))\n",
    "\n"
   ]
  },
  {
   "cell_type": "code",
   "execution_count": null,
   "metadata": {},
   "outputs": [
    {
     "name": "stderr",
     "output_type": "stream",
     "text": [
      "The attention mask and the pad token id were not set. As a consequence, you may observe unexpected behavior. Please pass your input's `attention_mask` to obtain reliable results.\n",
      "Setting `pad_token_id` to `eos_token_id`:50256 for open-end generation.\n"
     ]
    },
    {
     "name": "stdout",
     "output_type": "stream",
     "text": [
      "EEG Preprocessing Techniques:\n",
      "\n",
      "Preprocessing is a process that takes advantage of the fact that the data is stored in a large set of data structures. The data structures are stored in a single file called a file system. In the example above, we have a file system called \"file.txt\" that contains all the data in the file system. The file system contains the data structures of the file system. The file system stores the data structures of the file system in a file called \"\n"
     ]
    }
   ],
   "source": [
    "print(generate_text(prompt1, max_length=100, temperature=0.7, top_k=50, top_p=0.7))\n",
    "\n",
    "# Lower Temperature...More structured and factual.\n",
    "# Lower top_p...Limits the randomness, making it more concise and relevant."
   ]
  },
  {
   "cell_type": "code",
   "execution_count": 33,
   "metadata": {},
   "outputs": [
    {
     "name": "stderr",
     "output_type": "stream",
     "text": [
      "The attention mask and the pad token id were not set. As a consequence, you may observe unexpected behavior. Please pass your input's `attention_mask` to obtain reliable results.\n",
      "Setting `pad_token_id` to `eos_token_id`:50256 for open-end generation.\n"
     ]
    },
    {
     "name": "stdout",
     "output_type": "stream",
     "text": [
      "EEG Preprocessing Techniques: The process is described by S.B. and S.L. with regard to the following topics:\n",
      "\n",
      "Processing the data of the data-gathering data sets to produce a desired outcome (in the following situations, the result is usually an input from a source of data or a value from a set of data). In the following examples, the data set will be used as a source of the values of the input values and values of the output values to\n"
     ]
    }
   ],
   "source": [
    "print(generate_text(prompt1, max_length=100, temperature=1.0, top_k=20, top_p=0.9))\n",
    "\n",
    "# Medium Temperature...Keeps a balance between coherence and creativity.\n",
    "# Lower top_k....Ensures the generated text remains focused while still being engaging."
   ]
  },
  {
   "cell_type": "markdown",
   "metadata": {},
   "source": []
  }
 ],
 "metadata": {
  "kernelspec": {
   "display_name": "Python 3",
   "language": "python",
   "name": "python3"
  },
  "language_info": {
   "codemirror_mode": {
    "name": "ipython",
    "version": 3
   },
   "file_extension": ".py",
   "mimetype": "text/x-python",
   "name": "python",
   "nbconvert_exporter": "python",
   "pygments_lexer": "ipython3",
   "version": "3.10.10"
  }
 },
 "nbformat": 4,
 "nbformat_minor": 2
}
